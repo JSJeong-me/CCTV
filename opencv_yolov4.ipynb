{
  "nbformat": 4,
  "nbformat_minor": 5,
  "metadata": {
    "colab": {
      "name": "opencv_yolov4.ipynb",
      "provenance": [],
      "include_colab_link": true
    },
    "kernelspec": {
      "name": "python3",
      "display_name": "Python 3"
    },
    "accelerator": "GPU"
  },
  "cells": [
    {
      "cell_type": "markdown",
      "metadata": {
        "id": "view-in-github",
        "colab_type": "text"
      },
      "source": [
        "<a href=\"https://colab.research.google.com/github/JSJeong-me/CCTV/blob/main/opencv_yolov4.ipynb\" target=\"_parent\"><img src=\"https://colab.research.google.com/assets/colab-badge.svg\" alt=\"Open In Colab\"/></a>"
      ]
    },
    {
      "cell_type": "code",
      "metadata": {
        "id": "x4uWL5uWWvrg"
      },
      "source": [
        ""
      ],
      "id": "x4uWL5uWWvrg",
      "execution_count": null,
      "outputs": []
    },
    {
      "cell_type": "code",
      "metadata": {
        "colab": {
          "base_uri": "https://localhost:8080/"
        },
        "id": "gmqP_3PiW3la",
        "outputId": "93dda017-ffb3-4e13-c45d-d3c7d217b312"
      },
      "source": [
        "from google.colab import drive\n",
        "drive.mount('/content/drive')"
      ],
      "id": "gmqP_3PiW3la",
      "execution_count": 6,
      "outputs": [
        {
          "output_type": "stream",
          "text": [
            "Mounted at /content/drive\n"
          ],
          "name": "stdout"
        }
      ]
    },
    {
      "cell_type": "code",
      "metadata": {
        "colab": {
          "base_uri": "https://localhost:8080/"
        },
        "id": "-jI4ezC8XGHx",
        "outputId": "36aabcd5-bfb7-4641-9e30-2f95600df880"
      },
      "source": [
        "!pwd"
      ],
      "id": "-jI4ezC8XGHx",
      "execution_count": 2,
      "outputs": [
        {
          "output_type": "stream",
          "text": [
            "/content\n"
          ],
          "name": "stdout"
        }
      ]
    },
    {
      "cell_type": "code",
      "metadata": {
        "id": "ec6eCR11XLc3"
      },
      "source": [
        "!cp /content/drive/MyDrive/yolov4/obj.names ."
      ],
      "id": "ec6eCR11XLc3",
      "execution_count": 7,
      "outputs": []
    },
    {
      "cell_type": "code",
      "metadata": {
        "id": "bqSGVCSGXtw3"
      },
      "source": [
        "!cp /content/drive/MyDrive/yolov4/*.weights ."
      ],
      "id": "bqSGVCSGXtw3",
      "execution_count": 10,
      "outputs": []
    },
    {
      "cell_type": "code",
      "metadata": {
        "id": "IKMK8oH7X4Em"
      },
      "source": [
        "!cp /content/drive/MyDrive/yolov4/obj.names ."
      ],
      "id": "IKMK8oH7X4Em",
      "execution_count": 8,
      "outputs": []
    },
    {
      "cell_type": "code",
      "metadata": {
        "id": "rvStoUEoYl-q"
      },
      "source": [
        "!cp /content/drive/MyDrive/yolov4/cctv5-1-10.jpg ."
      ],
      "id": "rvStoUEoYl-q",
      "execution_count": 9,
      "outputs": []
    },
    {
      "cell_type": "code",
      "metadata": {
        "id": "sVcxUpQVahTN",
        "outputId": "5c6075ce-0a33-47f3-c53a-5ffde5015921",
        "colab": {
          "base_uri": "https://localhost:8080/"
        }
      },
      "source": [
        "!ls -l"
      ],
      "id": "sVcxUpQVahTN",
      "execution_count": 11,
      "outputs": [
        {
          "output_type": "stream",
          "text": [
            "total 250964\n",
            "-rw------- 1 root root    953924 Mar 15 05:58 cctv5-1-10.jpg\n",
            "-rw------- 1 root root 256015980 Mar 15 05:58 custom-yolov4-detector_last.weights\n",
            "drwx------ 5 root root      4096 Mar 15 05:58 drive\n",
            "-rw------- 1 root root         5 Mar 15 05:58 obj.names\n",
            "drwxr-xr-x 1 root root      4096 Mar  5 14:37 sample_data\n"
          ],
          "name": "stdout"
        }
      ]
    },
    {
      "cell_type": "code",
      "metadata": {
        "id": "OvmQ5u2xd2xo",
        "outputId": "a2691de2-1036-4064-b8c7-96ac912a6b64",
        "colab": {
          "base_uri": "https://localhost:8080/"
        }
      },
      "source": [
        "!pwd"
      ],
      "id": "OvmQ5u2xd2xo",
      "execution_count": 12,
      "outputs": [
        {
          "output_type": "stream",
          "text": [
            "/content\n"
          ],
          "name": "stdout"
        }
      ]
    },
    {
      "cell_type": "code",
      "metadata": {
        "id": "VPbX1Mt3azYV"
      },
      "source": [
        "!pip install opencv-contrib-python==3.4.13.47 --force-reinstall"
      ],
      "id": "VPbX1Mt3azYV",
      "execution_count": null,
      "outputs": []
    },
    {
      "cell_type": "code",
      "metadata": {
        "id": "iBCADSFQZ759"
      },
      "source": [
        "import cv2\r\n",
        "import numpy as np\r\n",
        "\r\n"
      ],
      "id": "iBCADSFQZ759",
      "execution_count": 13,
      "outputs": []
    },
    {
      "cell_type": "code",
      "metadata": {
        "id": "CcM29asTeZ-a",
        "outputId": "74b88fce-44ab-41a4-b483-69a051e7f8b6",
        "colab": {
          "base_uri": "https://localhost:8080/",
          "height": 292
        }
      },
      "source": [
        "!pip3 install --upgrade opencv-python==3.4.2.17"
      ],
      "id": "CcM29asTeZ-a",
      "execution_count": 17,
      "outputs": [
        {
          "output_type": "stream",
          "text": [
            "Collecting opencv-python==3.4.2.17\n",
            "\u001b[?25l  Downloading https://files.pythonhosted.org/packages/8f/8f/a5d2fa3a3309c4e4aa28eb989d81a95b57c63406b4d439758a1a0a810c77/opencv_python-3.4.2.17-cp37-cp37m-manylinux1_x86_64.whl (25.0MB)\n",
            "\u001b[K     |████████████████████████████████| 25.0MB 131kB/s \n",
            "\u001b[?25hRequirement already satisfied, skipping upgrade: numpy>=1.14.5 in /usr/local/lib/python3.7/dist-packages (from opencv-python==3.4.2.17) (1.20.1)\n",
            "\u001b[31mERROR: albumentations 0.1.12 has requirement imgaug<0.2.7,>=0.2.5, but you'll have imgaug 0.2.9 which is incompatible.\u001b[0m\n",
            "Installing collected packages: opencv-python\n",
            "  Found existing installation: opencv-python 4.1.2.30\n",
            "    Uninstalling opencv-python-4.1.2.30:\n",
            "      Successfully uninstalled opencv-python-4.1.2.30\n",
            "Successfully installed opencv-python-3.4.2.17\n"
          ],
          "name": "stdout"
        },
        {
          "output_type": "display_data",
          "data": {
            "application/vnd.colab-display-data+json": {
              "pip_warning": {
                "packages": [
                  "cv2"
                ]
              }
            }
          },
          "metadata": {
            "tags": []
          }
        }
      ]
    },
    {
      "cell_type": "code",
      "metadata": {
        "id": "aIKNpqcjc7HE"
      },
      "source": [
        "_net_cfg_path = \"/content/custom-yolov4-detector.cfg\"\r\n",
        "_net_weights_path = \"/content/custom-yolov4-detector_last.weights\"\r\n",
        "#_net_min_confidence = 0.02\r\n",
        "#_net_class_names_path = \"/home/dgk/Documents/HunterCV/pyway/cfg/coco.names\"\r\n"
      ],
      "id": "aIKNpqcjc7HE",
      "execution_count": 14,
      "outputs": []
    },
    {
      "cell_type": "code",
      "metadata": {
        "id": "SSheEcw7cP2h",
        "outputId": "61651b32-f172-4b6f-f923-7e519bbcfc76",
        "colab": {
          "base_uri": "https://localhost:8080/",
          "height": 197
        }
      },
      "source": [
        "# Load Yolo\r\n",
        "net = cv2.dnn.readNet(_net_weights_path, _net_cfg_path)"
      ],
      "id": "SSheEcw7cP2h",
      "execution_count": 15,
      "outputs": [
        {
          "output_type": "error",
          "ename": "error",
          "evalue": "ignored",
          "traceback": [
            "\u001b[0;31m---------------------------------------------------------------------------\u001b[0m",
            "\u001b[0;31merror\u001b[0m                                     Traceback (most recent call last)",
            "\u001b[0;32m<ipython-input-15-eb467eb357da>\u001b[0m in \u001b[0;36m<module>\u001b[0;34m()\u001b[0m\n\u001b[1;32m      1\u001b[0m \u001b[0;31m# Load Yolo\u001b[0m\u001b[0;34m\u001b[0m\u001b[0;34m\u001b[0m\u001b[0;34m\u001b[0m\u001b[0m\n\u001b[0;32m----> 2\u001b[0;31m \u001b[0mnet\u001b[0m \u001b[0;34m=\u001b[0m \u001b[0mcv2\u001b[0m\u001b[0;34m.\u001b[0m\u001b[0mdnn\u001b[0m\u001b[0;34m.\u001b[0m\u001b[0mreadNet\u001b[0m\u001b[0;34m(\u001b[0m\u001b[0m_net_weights_path\u001b[0m\u001b[0;34m,\u001b[0m \u001b[0m_net_cfg_path\u001b[0m\u001b[0;34m)\u001b[0m\u001b[0;34m\u001b[0m\u001b[0;34m\u001b[0m\u001b[0m\n\u001b[0m",
            "\u001b[0;31merror\u001b[0m: OpenCV(3.4.13) /tmp/pip-req-build-747w3gn5/opencv/modules/dnn/src/darknet/darknet_importer.cpp:207: error: (-212:Parsing error) Failed to parse NetParameter file: /content/custom-yolov4-detector.cfg in function 'readNetFromDarknet'\n"
          ]
        }
      ]
    },
    {
      "cell_type": "code",
      "metadata": {
        "colab": {
          "base_uri": "https://localhost:8080/",
          "height": 248
        },
        "id": "R6YvrVvZYoXf",
        "outputId": "59c2607e-0dee-45f6-d09a-8bcc7424d9ad"
      },
      "source": [
        "# https://pysource.com/2019/06/27/yolo-object-detection-using-opencv-with-python/\r\n",
        "\r\n",
        "import cv2\r\n",
        "import numpy as np\r\n",
        "\r\n",
        "# Load Yolo\r\n",
        "net = cv2.dnn.readNet(\"custom-yolov4-detector_last.weights\", \"custom-yolov4-detector.cfg\")\r\n",
        "\r\n",
        "classes = []\r\n",
        "with open(\"obj.names\", \"r\") as f:\r\n",
        "    classes = [line.strip() for line in f.readlines()]\r\n",
        "layer_names = net.getLayerNames()\r\n",
        "output_layers = [layer_names[i[0] - 1] for i in net.getUnconnectedOutLayers()]\r\n",
        "colors = np.random.uniform(0, 255, size=(len(classes), 3))\r\n",
        "\r\n",
        "# Loading image\r\n",
        "img = cv2.imread(\"cctv5-1-10.jpg\")\r\n",
        "img = cv2.resize(img, None, fx=0.5, fy=0.5)\r\n",
        "height, width, channels = img.shape\r\n",
        "\r\n",
        "# Detecting objects\r\n",
        "blob = cv2.dnn.blobFromImage(img, scalefactor=None,  size=(416, 416), mean=(0, 0, 0), swapRB=True, crop=False)\r\n",
        "#blob = cv2.dnn.blobFromImage(img, scalefactor=0.0039215,  size=(416, 416), mean=(0, 0, 0), swapRB=True, crop=False)\r\n",
        "\r\n",
        "net.setInput(blob)\r\n",
        "outs = net.forward(output_layers)\r\n",
        "\r\n",
        "# Showing informations on the screen\r\n",
        "class_ids = []\r\n",
        "confidences = []\r\n",
        "boxes = []\r\n",
        "for out in outs:\r\n",
        "    for detection in out:\r\n",
        "        scores = detection[5:]\r\n",
        "        class_id = np.argmax(scores)\r\n",
        "        confidence = scores[class_id]\r\n",
        "        if confidence > 0.3:\r\n",
        "            # Object detected\r\n",
        "            center_x = int(detection[0] * width)\r\n",
        "            center_y = int(detection[1] * height)\r\n",
        "            w = int(detection[2] * width)\r\n",
        "            h = int(detection[3] * height)\r\n",
        "\r\n",
        "            # Rectangle coordinates\r\n",
        "            x = int(center_x - w / 2)\r\n",
        "            y = int(center_y - h / 2)\r\n",
        "\r\n",
        "            boxes.append([x, y, w, h])\r\n",
        "            confidences.append(float(confidence))\r\n",
        "            class_ids.append(class_id)\r\n",
        "\r\n",
        "indexes = cv2.dnn.NMSBoxes(boxes, confidences, 0.1, 0.1)\r\n",
        "print(indexes)\r\n"
      ],
      "id": "R6YvrVvZYoXf",
      "execution_count": null,
      "outputs": [
        {
          "output_type": "error",
          "ename": "error",
          "evalue": "ignored",
          "traceback": [
            "\u001b[0;31m---------------------------------------------------------------------------\u001b[0m",
            "\u001b[0;31merror\u001b[0m                                     Traceback (most recent call last)",
            "\u001b[0;32m<ipython-input-9-dd7700aaca26>\u001b[0m in \u001b[0;36m<module>\u001b[0;34m()\u001b[0m\n\u001b[1;32m      5\u001b[0m \u001b[0;34m\u001b[0m\u001b[0m\n\u001b[1;32m      6\u001b[0m \u001b[0;31m# Load Yolo\u001b[0m\u001b[0;34m\u001b[0m\u001b[0;34m\u001b[0m\u001b[0;34m\u001b[0m\u001b[0m\n\u001b[0;32m----> 7\u001b[0;31m \u001b[0mnet\u001b[0m \u001b[0;34m=\u001b[0m \u001b[0mcv2\u001b[0m\u001b[0;34m.\u001b[0m\u001b[0mdnn\u001b[0m\u001b[0;34m.\u001b[0m\u001b[0mreadNet\u001b[0m\u001b[0;34m(\u001b[0m\u001b[0;34m\"custom-yolov4-detector_last.weights\"\u001b[0m\u001b[0;34m,\u001b[0m \u001b[0;34m\"custom-yolov4-detector.cfg\"\u001b[0m\u001b[0;34m)\u001b[0m\u001b[0;34m\u001b[0m\u001b[0;34m\u001b[0m\u001b[0m\n\u001b[0m\u001b[1;32m      8\u001b[0m \u001b[0mclasses\u001b[0m \u001b[0;34m=\u001b[0m \u001b[0;34m[\u001b[0m\u001b[0;34m]\u001b[0m\u001b[0;34m\u001b[0m\u001b[0;34m\u001b[0m\u001b[0m\n\u001b[1;32m      9\u001b[0m \u001b[0;32mwith\u001b[0m \u001b[0mopen\u001b[0m\u001b[0;34m(\u001b[0m\u001b[0;34m\"obj.names\"\u001b[0m\u001b[0;34m,\u001b[0m \u001b[0;34m\"r\"\u001b[0m\u001b[0;34m)\u001b[0m \u001b[0;32mas\u001b[0m \u001b[0mf\u001b[0m\u001b[0;34m:\u001b[0m\u001b[0;34m\u001b[0m\u001b[0;34m\u001b[0m\u001b[0m\n",
            "\u001b[0;31merror\u001b[0m: OpenCV(4.1.2) /io/opencv/modules/dnn/src/darknet/darknet_io.cpp:554: error: (-212:Parsing error) Unsupported activation: mish in function 'ReadDarknetFromCfgStream'\n"
          ]
        }
      ]
    }
  ]
}