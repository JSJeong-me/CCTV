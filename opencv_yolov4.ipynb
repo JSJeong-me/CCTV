{
  "nbformat": 4,
  "nbformat_minor": 5,
  "metadata": {
    "colab": {
      "name": "opencv_yolov4.ipynb",
      "provenance": [],
      "include_colab_link": true
    },
    "kernelspec": {
      "name": "python3",
      "display_name": "Python 3"
    },
    "accelerator": "GPU"
  },
  "cells": [
    {
      "cell_type": "markdown",
      "metadata": {
        "id": "view-in-github",
        "colab_type": "text"
      },
      "source": [
        "<a href=\"https://colab.research.google.com/github/JSJeong-me/CCTV/blob/main/opencv_yolov4.ipynb\" target=\"_parent\"><img src=\"https://colab.research.google.com/assets/colab-badge.svg\" alt=\"Open In Colab\"/></a>"
      ]
    },
    {
      "cell_type": "code",
      "metadata": {
        "id": "x4uWL5uWWvrg"
      },
      "source": [
        ""
      ],
      "id": "x4uWL5uWWvrg",
      "execution_count": null,
      "outputs": []
    },
    {
      "cell_type": "code",
      "metadata": {
        "colab": {
          "base_uri": "https://localhost:8080/"
        },
        "id": "gmqP_3PiW3la",
        "outputId": "143fbf15-a726-46ca-f23d-cffe35848f41"
      },
      "source": [
        "from google.colab import drive\n",
        "drive.mount('/content/drive')"
      ],
      "id": "gmqP_3PiW3la",
      "execution_count": 1,
      "outputs": [
        {
          "output_type": "stream",
          "text": [
            "Mounted at /content/drive\n"
          ],
          "name": "stdout"
        }
      ]
    },
    {
      "cell_type": "code",
      "metadata": {
        "colab": {
          "base_uri": "https://localhost:8080/"
        },
        "id": "-jI4ezC8XGHx",
        "outputId": "4465731a-2d2e-4dc9-95b5-b81264992771"
      },
      "source": [
        "!pwd"
      ],
      "id": "-jI4ezC8XGHx",
      "execution_count": 2,
      "outputs": [
        {
          "output_type": "stream",
          "text": [
            "/content\n"
          ],
          "name": "stdout"
        }
      ]
    },
    {
      "cell_type": "code",
      "metadata": {
        "id": "ec6eCR11XLc3"
      },
      "source": [
        "!cp /content/drive/MyDrive/yolov4/obj.names ."
      ],
      "id": "ec6eCR11XLc3",
      "execution_count": 5,
      "outputs": []
    },
    {
      "cell_type": "code",
      "metadata": {
        "id": "bqSGVCSGXtw3"
      },
      "source": [
        "!cp /content/drive/MyDrive/yolov4/*.weights ."
      ],
      "id": "bqSGVCSGXtw3",
      "execution_count": 6,
      "outputs": []
    },
    {
      "cell_type": "code",
      "metadata": {
        "id": "IKMK8oH7X4Em"
      },
      "source": [
        "!cp /content/drive/MyDrive/yolov4/obj.names ."
      ],
      "id": "IKMK8oH7X4Em",
      "execution_count": null,
      "outputs": []
    },
    {
      "cell_type": "code",
      "metadata": {
        "id": "rvStoUEoYl-q"
      },
      "source": [
        "!cp /content/drive/MyDrive/yolov4/*.weights ."
      ],
      "id": "rvStoUEoYl-q",
      "execution_count": 7,
      "outputs": []
    },
    {
      "cell_type": "code",
      "metadata": {
        "id": "sVcxUpQVahTN"
      },
      "source": [
        ""
      ],
      "id": "sVcxUpQVahTN",
      "execution_count": 14,
      "outputs": []
    },
    {
      "cell_type": "code",
      "metadata": {
        "colab": {
          "base_uri": "https://localhost:8080/",
          "height": 428
        },
        "id": "VPbX1Mt3azYV",
        "outputId": "6257e975-ce56-4ccf-9dc3-466de726203e"
      },
      "source": [
        "!pip install opencv-contrib-python==3.4.13.47 --force-reinstall"
      ],
      "id": "VPbX1Mt3azYV",
      "execution_count": 14,
      "outputs": [
        {
          "output_type": "stream",
          "text": [
            "Collecting opencv-contrib-python==3.4.13.47\n",
            "\u001b[?25l  Downloading https://files.pythonhosted.org/packages/b3/35/e42cde634d25ed3dc32e638993df48eea3c5513b6af3a0cdd6cc53abc4c6/opencv_contrib_python-3.4.13.47-cp37-cp37m-manylinux2014_x86_64.whl (53.7MB)\n",
            "\u001b[K     |████████████████████████████████| 53.7MB 56kB/s \n",
            "\u001b[?25hCollecting numpy>=1.14.5\n",
            "\u001b[?25l  Downloading https://files.pythonhosted.org/packages/70/8a/064b4077e3d793f877e3b77aa64f56fa49a4d37236a53f78ee28be009a16/numpy-1.20.1-cp37-cp37m-manylinux2010_x86_64.whl (15.3MB)\n",
            "\u001b[K     |████████████████████████████████| 15.3MB 220kB/s \n",
            "\u001b[31mERROR: tensorflow 2.4.1 has requirement numpy~=1.19.2, but you'll have numpy 1.20.1 which is incompatible.\u001b[0m\n",
            "\u001b[31mERROR: jaxlib 0.1.60+cuda110 has requirement numpy<1.20,>=1.12, but you'll have numpy 1.20.1 which is incompatible.\u001b[0m\n",
            "\u001b[31mERROR: datascience 0.10.6 has requirement folium==0.2.1, but you'll have folium 0.8.3 which is incompatible.\u001b[0m\n",
            "\u001b[31mERROR: albumentations 0.1.12 has requirement imgaug<0.2.7,>=0.2.5, but you'll have imgaug 0.2.9 which is incompatible.\u001b[0m\n",
            "\u001b[?25hInstalling collected packages: numpy, opencv-contrib-python\n",
            "  Found existing installation: numpy 1.19.5\n",
            "    Uninstalling numpy-1.19.5:\n",
            "      Successfully uninstalled numpy-1.19.5\n",
            "  Found existing installation: opencv-contrib-python 4.1.2.30\n",
            "    Uninstalling opencv-contrib-python-4.1.2.30:\n",
            "      Successfully uninstalled opencv-contrib-python-4.1.2.30\n",
            "Successfully installed numpy-1.20.1 opencv-contrib-python-3.4.13.47\n"
          ],
          "name": "stdout"
        },
        {
          "output_type": "display_data",
          "data": {
            "application/vnd.colab-display-data+json": {
              "pip_warning": {
                "packages": [
                  "cv2",
                  "numpy"
                ]
              }
            }
          },
          "metadata": {
            "tags": []
          }
        }
      ]
    },
    {
      "cell_type": "code",
      "metadata": {
        "colab": {
          "base_uri": "https://localhost:8080/",
          "height": 214
        },
        "id": "iBCADSFQZ759",
        "outputId": "b1711cb5-f09c-43d6-e51d-5af3ff3d3b6c"
      },
      "source": [
        "#import cv2\r\n",
        "#import numpy as np\r\n",
        "\r\n",
        "# Load Yolo\r\n",
        "net = cv2.dnn.readNet(\"custom-yolov4-detector_last.weights\", \"custom-yolov4-detector.cfg\")"
      ],
      "id": "iBCADSFQZ759",
      "execution_count": 13,
      "outputs": [
        {
          "output_type": "error",
          "ename": "error",
          "evalue": "ignored",
          "traceback": [
            "\u001b[0;31m---------------------------------------------------------------------------\u001b[0m",
            "\u001b[0;31merror\u001b[0m                                     Traceback (most recent call last)",
            "\u001b[0;32m<ipython-input-13-20ab336e1f69>\u001b[0m in \u001b[0;36m<module>\u001b[0;34m()\u001b[0m\n\u001b[1;32m      3\u001b[0m \u001b[0;34m\u001b[0m\u001b[0m\n\u001b[1;32m      4\u001b[0m \u001b[0;31m# Load Yolo\u001b[0m\u001b[0;34m\u001b[0m\u001b[0;34m\u001b[0m\u001b[0;34m\u001b[0m\u001b[0m\n\u001b[0;32m----> 5\u001b[0;31m \u001b[0mnet\u001b[0m \u001b[0;34m=\u001b[0m \u001b[0mcv2\u001b[0m\u001b[0;34m.\u001b[0m\u001b[0mdnn\u001b[0m\u001b[0;34m.\u001b[0m\u001b[0mreadNet\u001b[0m\u001b[0;34m(\u001b[0m\u001b[0;34m\"custom-yolov4-detector_last.weights\"\u001b[0m\u001b[0;34m,\u001b[0m \u001b[0;34m\"custom-yolov4-detector.cfg\"\u001b[0m\u001b[0;34m)\u001b[0m\u001b[0;34m\u001b[0m\u001b[0;34m\u001b[0m\u001b[0m\n\u001b[0m",
            "\u001b[0;31merror\u001b[0m: OpenCV(4.1.2) /io/opencv/modules/dnn/src/darknet/darknet_io.cpp:554: error: (-212:Parsing error) Unsupported activation: mish in function 'ReadDarknetFromCfgStream'\n"
          ]
        }
      ]
    },
    {
      "cell_type": "code",
      "metadata": {
        "colab": {
          "base_uri": "https://localhost:8080/",
          "height": 248
        },
        "id": "R6YvrVvZYoXf",
        "outputId": "59c2607e-0dee-45f6-d09a-8bcc7424d9ad"
      },
      "source": [
        "# https://pysource.com/2019/06/27/yolo-object-detection-using-opencv-with-python/\r\n",
        "\r\n",
        "import cv2\r\n",
        "import numpy as np\r\n",
        "\r\n",
        "# Load Yolo\r\n",
        "net = cv2.dnn.readNet(\"custom-yolov4-detector_last.weights\", \"custom-yolov4-detector.cfg\")\r\n",
        "\r\n",
        "classes = []\r\n",
        "with open(\"obj.names\", \"r\") as f:\r\n",
        "    classes = [line.strip() for line in f.readlines()]\r\n",
        "layer_names = net.getLayerNames()\r\n",
        "output_layers = [layer_names[i[0] - 1] for i in net.getUnconnectedOutLayers()]\r\n",
        "colors = np.random.uniform(0, 255, size=(len(classes), 3))\r\n",
        "\r\n",
        "# Loading image\r\n",
        "img = cv2.imread(\"cctv5-1-10.jpg\")\r\n",
        "img = cv2.resize(img, None, fx=0.5, fy=0.5)\r\n",
        "height, width, channels = img.shape\r\n",
        "\r\n",
        "# Detecting objects\r\n",
        "blob = cv2.dnn.blobFromImage(img, scalefactor=None,  size=(416, 416), mean=(0, 0, 0), swapRB=True, crop=False)\r\n",
        "#blob = cv2.dnn.blobFromImage(img, scalefactor=0.0039215,  size=(416, 416), mean=(0, 0, 0), swapRB=True, crop=False)\r\n",
        "\r\n",
        "net.setInput(blob)\r\n",
        "outs = net.forward(output_layers)\r\n",
        "\r\n",
        "# Showing informations on the screen\r\n",
        "class_ids = []\r\n",
        "confidences = []\r\n",
        "boxes = []\r\n",
        "for out in outs:\r\n",
        "    for detection in out:\r\n",
        "        scores = detection[5:]\r\n",
        "        class_id = np.argmax(scores)\r\n",
        "        confidence = scores[class_id]\r\n",
        "        if confidence > 0.3:\r\n",
        "            # Object detected\r\n",
        "            center_x = int(detection[0] * width)\r\n",
        "            center_y = int(detection[1] * height)\r\n",
        "            w = int(detection[2] * width)\r\n",
        "            h = int(detection[3] * height)\r\n",
        "\r\n",
        "            # Rectangle coordinates\r\n",
        "            x = int(center_x - w / 2)\r\n",
        "            y = int(center_y - h / 2)\r\n",
        "\r\n",
        "            boxes.append([x, y, w, h])\r\n",
        "            confidences.append(float(confidence))\r\n",
        "            class_ids.append(class_id)\r\n",
        "\r\n",
        "indexes = cv2.dnn.NMSBoxes(boxes, confidences, 0.1, 0.1)\r\n",
        "print(indexes)\r\n"
      ],
      "id": "R6YvrVvZYoXf",
      "execution_count": 9,
      "outputs": [
        {
          "output_type": "error",
          "ename": "error",
          "evalue": "ignored",
          "traceback": [
            "\u001b[0;31m---------------------------------------------------------------------------\u001b[0m",
            "\u001b[0;31merror\u001b[0m                                     Traceback (most recent call last)",
            "\u001b[0;32m<ipython-input-9-dd7700aaca26>\u001b[0m in \u001b[0;36m<module>\u001b[0;34m()\u001b[0m\n\u001b[1;32m      5\u001b[0m \u001b[0;34m\u001b[0m\u001b[0m\n\u001b[1;32m      6\u001b[0m \u001b[0;31m# Load Yolo\u001b[0m\u001b[0;34m\u001b[0m\u001b[0;34m\u001b[0m\u001b[0;34m\u001b[0m\u001b[0m\n\u001b[0;32m----> 7\u001b[0;31m \u001b[0mnet\u001b[0m \u001b[0;34m=\u001b[0m \u001b[0mcv2\u001b[0m\u001b[0;34m.\u001b[0m\u001b[0mdnn\u001b[0m\u001b[0;34m.\u001b[0m\u001b[0mreadNet\u001b[0m\u001b[0;34m(\u001b[0m\u001b[0;34m\"custom-yolov4-detector_last.weights\"\u001b[0m\u001b[0;34m,\u001b[0m \u001b[0;34m\"custom-yolov4-detector.cfg\"\u001b[0m\u001b[0;34m)\u001b[0m\u001b[0;34m\u001b[0m\u001b[0;34m\u001b[0m\u001b[0m\n\u001b[0m\u001b[1;32m      8\u001b[0m \u001b[0mclasses\u001b[0m \u001b[0;34m=\u001b[0m \u001b[0;34m[\u001b[0m\u001b[0;34m]\u001b[0m\u001b[0;34m\u001b[0m\u001b[0;34m\u001b[0m\u001b[0m\n\u001b[1;32m      9\u001b[0m \u001b[0;32mwith\u001b[0m \u001b[0mopen\u001b[0m\u001b[0;34m(\u001b[0m\u001b[0;34m\"obj.names\"\u001b[0m\u001b[0;34m,\u001b[0m \u001b[0;34m\"r\"\u001b[0m\u001b[0;34m)\u001b[0m \u001b[0;32mas\u001b[0m \u001b[0mf\u001b[0m\u001b[0;34m:\u001b[0m\u001b[0;34m\u001b[0m\u001b[0;34m\u001b[0m\u001b[0m\n",
            "\u001b[0;31merror\u001b[0m: OpenCV(4.1.2) /io/opencv/modules/dnn/src/darknet/darknet_io.cpp:554: error: (-212:Parsing error) Unsupported activation: mish in function 'ReadDarknetFromCfgStream'\n"
          ]
        }
      ]
    }
  ]
}